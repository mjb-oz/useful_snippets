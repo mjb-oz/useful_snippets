{
 "cells": [
  {
   "cell_type": "code",
   "execution_count": 13,
   "metadata": {
    "collapsed": false
   },
   "outputs": [
    {
     "name": "stdout",
     "output_type": "stream",
     "text": [
      "Number: 1233 Progress:██████████████████████████████████████████████████| 100 % done\r"
     ]
    }
   ],
   "source": [
    "import sys\n",
    "import time\n",
    "\n",
    "# define number of iterations outside of the loop\n",
    "l = 1234\n",
    "# calc number of characters of length of loop\n",
    "llen = len(str(l))\n",
    "\n",
    "for i in range(l):\n",
    "    # do useful stuff here\n",
    "    # delete this line, its to simulate doing useful stuff\n",
    "    time.sleep(0.015)\n",
    "    \n",
    "    # calc % of way through loop as decimal\n",
    "    pc = (i + 1)/ l\n",
    "    # define length of progress bar\n",
    "    barlen = 50\n",
    "    # update the progress bar, solid squares as done, space as not yet done\n",
    "    progress = chr(9608) * int(pc * barlen) + ' ' * int(barlen* (1 - pc))\n",
    "    # link in the bar with a % counter\n",
    "    string = ' Progress:' + progress + '| ' + str(int(pc * 100)) + ' % done'\n",
    "    # clear the previous output\n",
    "    sys.stdout.flush()\n",
    "    # pad the iteration counter with spaces for neatness\n",
    "    nstr = (llen - len(str(i))) * ' ' + str(i)\n",
    "    # print it all together\n",
    "    print('Number: ' + nstr + string, end='\\r')"
   ]
  }
 ],
 "metadata": {
  "kernelspec": {
   "display_name": "Python 3",
   "language": "python",
   "name": "python3"
  },
  "language_info": {
   "codemirror_mode": {
    "name": "ipython",
    "version": 3
   },
   "file_extension": ".py",
   "mimetype": "text/x-python",
   "name": "python",
   "nbconvert_exporter": "python",
   "pygments_lexer": "ipython3",
   "version": "3.6.0"
  }
 },
 "nbformat": 4,
 "nbformat_minor": 2
}
