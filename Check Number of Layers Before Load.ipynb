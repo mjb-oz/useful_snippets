{
 "cells": [
  {
   "cell_type": "code",
   "execution_count": null,
   "metadata": {},
   "outputs": [],
   "source": [
    "import datacube\n",
    "from datacube.model import Range\n",
    "from datetime import datetime\n",
    "from datacube.api.query import Query\n",
    "dc = datacube.Datacube()\n",
    "query = Query(product='ls7_nbar_scene', time=Range(datetime(2001, 1, 1), datetime(2006, 1, 1)), longitude=(140.8, 140.95), latitude=(-17.55, -17.45))\n",
    "data = dc.index.datasets.seach_eager(**query.search_terms)"
   ]
  }
 ],
 "metadata": {
  "kernelspec": {
   "display_name": "Python 3",
   "language": "python",
   "name": "python3"
  },
  "language_info": {
   "codemirror_mode": {
    "name": "ipython",
    "version": 3
   },
   "file_extension": ".py",
   "mimetype": "text/x-python",
   "name": "python",
   "nbconvert_exporter": "python",
   "pygments_lexer": "ipython3",
   "version": "3.6.3"
  },
  "toc": {
   "nav_menu": {},
   "number_sections": true,
   "sideBar": true,
   "skip_h1_title": false,
   "toc_cell": false,
   "toc_position": {},
   "toc_section_display": "block",
   "toc_window_display": false
  }
 },
 "nbformat": 4,
 "nbformat_minor": 2
}
