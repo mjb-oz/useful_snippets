{
 "cells": [
  {
   "cell_type": "code",
   "execution_count": null,
   "metadata": {
    "collapsed": true
   },
   "outputs": [],
   "source": [
    "import datacube\n",
    "dc =datacube.Datacube(config='/g/data/r78/bom_grids/rainfall.conf')\n",
    "dc.list_products()\n",
    "\n",
    "start_of_epoch = '1987-01-01'\n",
    "end_of_epoch =  '1987-01-10'\n",
    "query = { 'time': (start_of_epoch, end_of_epoch)}\n",
    "\n",
    "dc.load(product = 'rainfall_grids_1901_2017',**query)\n",
    "\n",
    "data = dc.load(product='rainfall_grids_1901_2017',\n",
    "                x=(149.25, 149.5), y=(-36.25, -36.5),\n",
    "               time=('2008-01-01', '2009-01-01'))\n"
   ]
  }
 ],
 "metadata": {
  "kernelspec": {
   "display_name": "Python 3",
   "language": "python",
   "name": "python3"
  },
  "language_info": {
   "codemirror_mode": {
    "name": "ipython",
    "version": 3
   },
   "file_extension": ".py",
   "mimetype": "text/x-python",
   "name": "python",
   "nbconvert_exporter": "python",
   "pygments_lexer": "ipython3",
   "version": "3.6.0"
  }
 },
 "nbformat": 4,
 "nbformat_minor": 2
}
